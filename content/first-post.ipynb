{
 "cells": [
  {
   "cell_type": "markdown",
   "metadata": {},
   "source": [
    "Isso aqui é o `print('Hello world!')` dos posts desse blog. 😄\n",
    "\n",
    "A ideia aqui é fazer uma série de tutoriais de python básico, conceitos de data science, e python para data science de um jeito em que dê pra melhorar a qualidade e aumentar a quantidade de materiais desse assunto disponíveis em português.\n",
    "\n",
    "Então é isso aí, e até mais! 🤘🏽"
   ]
  }
 ],
 "metadata": {
  "kernelspec": {
   "display_name": "Python 3",
   "language": "python",
   "name": "python3"
  },
  "language_info": {
   "codemirror_mode": {
    "name": "ipython",
    "version": 3
   },
   "file_extension": ".py",
   "mimetype": "text/x-python",
   "name": "python",
   "nbconvert_exporter": "python",
   "pygments_lexer": "ipython3",
   "version": "3.6.1"
  }
 },
 "nbformat": 4,
 "nbformat_minor": 2
}
